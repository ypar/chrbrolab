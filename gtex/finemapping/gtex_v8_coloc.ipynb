{
 "cells": [
  {
   "cell_type": "markdown",
   "metadata": {},
   "source": [
    "# gtex v8 gwas sugroup analysis\n",
    "## approximate bayes factor estimation to test colocalization between gwas and eqtl results \n",
    "# YoSon Park\n",
    "## July 14, 2018"
   ]
  },
  {
   "cell_type": "markdown",
   "metadata": {},
   "source": [
    "this notebook documents steps taken to run coloc on 110 traits for the GTEx v8 GWAS subgroup analysis/paper"
   ]
  },
  {
   "cell_type": "markdown",
   "metadata": {},
   "source": [
    "* gwas summary statistics were obtained from various public databases and processed by alvaro (im lab). \n",
    "* all genomic positions are mapped to hg38 to match gtex v8 eqtl results and most missing variants were imputed using impg. \n",
    "* gtex v8 eqtl analysis results were obtained from dbGaP"
   ]
  },
  {
   "cell_type": "markdown",
   "metadata": {},
   "source": []
  },
  {
   "cell_type": "code",
   "execution_count": 1,
   "metadata": {},
   "outputs": [],
   "source": [
    "# import some of the basic python modules for data formatting, etc\n",
    "import os, sys\n",
    "import pandas\n",
    "import numpy"
   ]
  },
  {
   "cell_type": "markdown",
   "metadata": {},
   "source": [
    "before the full scale analyses, these 10 traits are first downloaded and tested:\n",
    "```\n",
    "Public GWAS:\n",
    "\n",
    "1. Coronary artery disease (CAD consortium):\n",
    "imputed_CARDIoGRAM_C4D_CAD_ADDITIVE.txt.gz\n",
    "2. Tobacco: ever smoker vs. never smoker (TAG consortium):\n",
    "imputed_tag.evrsmk.tbl.txt.gz\n",
    "3. Height (GIANT consortium):\n",
    "imputed_GIANT_HEIGHT.txt.gz\n",
    "5. Inflammatory Bowel Disease (IBD consortium):\n",
    "imputed_IBD.EUR.Inflammatory_Bowel_Disease.txt.gz\n",
    "6. Hypertension (diastolic, systolic)\n",
    "\n",
    "UK Biobank:\n",
    "1. asthma: imputed_UKB_20002_1111_self_reported_asthma.txt.gz\n",
    "2. migraine:  imputed_UKB_20002_1265_self_reported_migraine.txt.gz\n",
    "3. irritable bowel syndrome:  imputed_UKB_20002_1154_self_reported_irritable_bowel_syndrome.txt.gz\n",
    "4. DVT:  imputed_UKB_20002_1094_self_reported_deep_venous_thrombosis_dvt.txt.gz\n",
    "5. osteoporosis:  imputed_UKB_20002_1309_self_reported_osteoporosis.txt.gz\n",
    "6. BMI: imputed_UKB_21001_Body_mass_index_BMI.txt.gz\n",
    "```"
   ]
  },
  {
   "cell_type": "code",
   "execution_count": null,
   "metadata": {},
   "outputs": [],
   "source": [
    "%%bash\n",
    "\n",
    "# Public:\n",
    "wget https://storage.googleapis.com/summary_stats_imputation/processed_summary_imputation/imputed_CARDIoGRAM_C4D_CAD_ADDITIVE.txt.gz\n",
    "wget https://storage.googleapis.com/summary_stats_imputation/processed_summary_imputation/imputed_tag.evrsmk.tbl.txt.gz\n",
    "wget https://storage.googleapis.com/summary_stats_imputation/processed_summary_imputation/imputed_GIANT_HEIGHT.txt.gz\n",
    "# wget https://storage.googleapis.com/summary_stats_imputation/processed_summary_imputation/imputed_SSGAC_Education_Years_Pooled.txt.gz\n",
    "wget https://storage.googleapis.com/summary_stats_imputation/processed_summary_imputation/imputed_IBD.EUR.Inflammatory_Bowel_Disease.txt.gz\n",
    "wget https://storage.googleapis.com/summary_stats_imputation/processed_summary_imputation/imputed_ICBP_DiastolicPressure.txt.gz\n",
    "wget https://storage.googleapis.com/summary_stats_imputation/processed_summary_imputation/imputed_ICBP_SystolicPressure.txt.gz\n",
    "    \n",
    "# UK Biobank:\n",
    "wget https://storage.googleapis.com/summary_stats_imputation/processed_summary_imputation/imputed_UKB_20002_1111_self_reported_asthma.txt.gz\n",
    "wget https://storage.googleapis.com/summary_stats_imputation/processed_summary_imputation/imputed_UKB_20002_1265_self_reported_migraine.txt.gz\n",
    "wget https://storage.googleapis.com/summary_stats_imputation/processed_summary_imputation/imputed_UKB_20002_1154_self_reported_irritable_bowel_syndrome.txt.gz\n",
    "wget https://storage.googleapis.com/summary_stats_imputation/processed_summary_imputation/imputed_UKB_20002_1094_self_reported_deep_venous_thrombosis_dvt.txt.gz\n",
    "wget https://storage.googleapis.com/summary_stats_imputation/processed_summary_imputation/imputed_UKB_20002_1309_self_reported_osteoporosis.txt.gz\n",
    "wget https://storage.googleapis.com/summary_stats_imputation/processed_summary_imputation/imputed_UKB_21001_Body_mass_index_BMI.txt.gz"
   ]
  },
  {
   "cell_type": "markdown",
   "metadata": {},
   "source": [
    "and these were agreed-upon primary tissues for analyses:\n",
    "```\n",
    "Muscle - Skeletal\n",
    "Skin - Sun Exposed (Lower leg)\n",
    "Thyroid\n",
    "Adipose - Subcutaneous\n",
    "Artery - Tibial\n",
    "Lung\n",
    "Nerve - Tibial\n",
    "Esophagus - Mucosa\n",
    "Whole Blood\n",
    "Heart - Left Ventricle \n",
    "\n",
    "```"
   ]
  },
  {
   "cell_type": "markdown",
   "metadata": {},
   "source": [
    "'egenes' were defined by per-tissue q-value < 0.05"
   ]
  },
  {
   "cell_type": "code",
   "execution_count": null,
   "metadata": {},
   "outputs": [],
   "source": [
    "%%bash\n",
    "\n",
    "#!/bin/bash\n",
    "\n",
    "mkdir -p GTEx_Analysis_v8_eQTL_egene_list\n",
    "cd GTEx_Analysis_v8_eQTL\n",
    "\n",
    "for file in *egenes*\n",
    "do\n",
    "\n",
    "# head -2\n",
    "# gene_id gene_name       gene_chr        gene_start      gene_end        strand  num_var beta_shape1     beta_shape2     true_df pval_true_df    variant_id      tss_distance    chr     variant_pos     ref     alt     num_alt_per_site        rs_id_dbSNP150_GRCh38p7 minor_allele_samples    minor_allele_count      maf     ref_factor      pval_nominal    slope   slope_se        pval_perm       pval_beta       qval    pval_nominal_threshold\n",
    "# ENSG00000227232.5       unprocessed_pseudogene  chr1    14410   29553   -       1361    1.03263 304.688 532.69  1.77781e-12     chr1_666028_G_A_b38     636475  chr1    666028  G       A       1       rs143332664     115     117     0.0948136       1       7.23705e-14     0.552584        0.072093        9.999e-05       2.66233e-10     3.23444e-10     0.000209918\n",
    "\n",
    "  tissue=$(echo ${file} | sed 's/.v8.egenes.txt.gz//')\n",
    "  gzip -dc ${file} | awk '($29<0.05 && $1!~\"gene_id\"){print $1}' | sort -u > ../GTEx_Analysis_v8_eQTL_egene_list/${tissue}.egenes.lst\n",
    "\n",
    "done\n"
   ]
  },
  {
   "cell_type": "code",
   "execution_count": 2,
   "metadata": {},
   "outputs": [
    {
     "name": "stdout",
     "output_type": "stream",
     "text": [
      "   15578 GTEx_Analysis_v8_eQTL_egene_list/Adipose_Subcutaneous.egenes.lst\n",
      "   12485 GTEx_Analysis_v8_eQTL_egene_list/Adipose_Visceral_Omentum.egenes.lst\n",
      "    8187 GTEx_Analysis_v8_eQTL_egene_list/Adrenal_Gland.egenes.lst\n",
      "   12492 GTEx_Analysis_v8_eQTL_egene_list/Artery_Aorta.egenes.lst\n",
      "    6352 GTEx_Analysis_v8_eQTL_egene_list/Artery_Coronary.egenes.lst\n",
      "   15026 GTEx_Analysis_v8_eQTL_egene_list/Artery_Tibial.egenes.lst\n",
      "    3730 GTEx_Analysis_v8_eQTL_egene_list/Brain_Amygdala.egenes.lst\n",
      "    5636 GTEx_Analysis_v8_eQTL_egene_list/Brain_Anterior_cingulate_cortex_BA24.egenes.lst\n",
      "    8395 GTEx_Analysis_v8_eQTL_egene_list/Brain_Caudate_basal_ganglia.egenes.lst\n",
      "   10039 GTEx_Analysis_v8_eQTL_egene_list/Brain_Cerebellar_Hemisphere.egenes.lst\n",
      "   11235 GTEx_Analysis_v8_eQTL_egene_list/Brain_Cerebellum.egenes.lst\n",
      "    9078 GTEx_Analysis_v8_eQTL_egene_list/Brain_Cortex.egenes.lst\n",
      "    7371 GTEx_Analysis_v8_eQTL_egene_list/Brain_Frontal_Cortex_BA9.egenes.lst\n",
      "    5525 GTEx_Analysis_v8_eQTL_egene_list/Brain_Hippocampus.egenes.lst\n",
      "    5501 GTEx_Analysis_v8_eQTL_egene_list/Brain_Hypothalamus.egenes.lst\n",
      "    8366 GTEx_Analysis_v8_eQTL_egene_list/Brain_Nucleus_accumbens_basal_ganglia.egenes.lst\n",
      "    6917 GTEx_Analysis_v8_eQTL_egene_list/Brain_Putamen_basal_ganglia.egenes.lst\n",
      "    4524 GTEx_Analysis_v8_eQTL_egene_list/Brain_Spinal_cord_cervical_c-1.egenes.lst\n",
      "    3359 GTEx_Analysis_v8_eQTL_egene_list/Brain_Substantia_nigra.egenes.lst\n",
      "   10910 GTEx_Analysis_v8_eQTL_egene_list/Breast_Mammary_Tissue.egenes.lst\n",
      "   15185 GTEx_Analysis_v8_eQTL_egene_list/Cells_Cultured_fibroblasts.egenes.lst\n",
      "    4937 GTEx_Analysis_v8_eQTL_egene_list/Cells_EBV-transformed_lymphocytes.egenes.lst\n",
      "   10668 GTEx_Analysis_v8_eQTL_egene_list/Colon_Sigmoid.egenes.lst\n",
      "   11746 GTEx_Analysis_v8_eQTL_egene_list/Colon_Transverse.egenes.lst\n",
      "   10627 GTEx_Analysis_v8_eQTL_egene_list/Esophagus_Gastroesophageal_Junction.egenes.lst\n",
      "   14791 GTEx_Analysis_v8_eQTL_egene_list/Esophagus_Mucosa.egenes.lst\n",
      "   14065 GTEx_Analysis_v8_eQTL_egene_list/Esophagus_Muscularis.egenes.lst\n",
      "   11076 GTEx_Analysis_v8_eQTL_egene_list/Heart_Atrial_Appendage.egenes.lst\n",
      "    9691 GTEx_Analysis_v8_eQTL_egene_list/Heart_Left_Ventricle.egenes.lst\n",
      "    1271 GTEx_Analysis_v8_eQTL_egene_list/Kidney_Cortex.egenes.lst\n",
      "    5793 GTEx_Analysis_v8_eQTL_egene_list/Liver.egenes.lst\n",
      "   14115 GTEx_Analysis_v8_eQTL_egene_list/Lung.egenes.lst\n",
      "    4883 GTEx_Analysis_v8_eQTL_egene_list/Minor_Salivary_Gland.egenes.lst\n",
      "   13533 GTEx_Analysis_v8_eQTL_egene_list/Muscle_Skeletal.egenes.lst\n",
      "   17326 GTEx_Analysis_v8_eQTL_egene_list/Nerve_Tibial.egenes.lst\n",
      "    5531 GTEx_Analysis_v8_eQTL_egene_list/Ovary.egenes.lst\n",
      "    9735 GTEx_Analysis_v8_eQTL_egene_list/Pancreas.egenes.lst\n",
      "    9241 GTEx_Analysis_v8_eQTL_egene_list/Pituitary.egenes.lst\n",
      "    7427 GTEx_Analysis_v8_eQTL_egene_list/Prostate.egenes.lst\n",
      "   15458 GTEx_Analysis_v8_eQTL_egene_list/Skin_Not_Sun_Exposed_Suprapubic.egenes.lst\n",
      "   16942 GTEx_Analysis_v8_eQTL_egene_list/Skin_Sun_Exposed_Lower_leg.egenes.lst\n",
      "    6631 GTEx_Analysis_v8_eQTL_egene_list/Small_Intestine_Terminal_Ileum.egenes.lst\n",
      "   10817 GTEx_Analysis_v8_eQTL_egene_list/Spleen.egenes.lst\n",
      "    8801 GTEx_Analysis_v8_eQTL_egene_list/Stomach.egenes.lst\n",
      "   18924 GTEx_Analysis_v8_eQTL_egene_list/Testis.egenes.lst\n",
      "   17497 GTEx_Analysis_v8_eQTL_egene_list/Thyroid.egenes.lst\n",
      "    3569 GTEx_Analysis_v8_eQTL_egene_list/Uterus.egenes.lst\n",
      "    3720 GTEx_Analysis_v8_eQTL_egene_list/Vagina.egenes.lst\n",
      "   12461 GTEx_Analysis_v8_eQTL_egene_list/Whole_Blood.egenes.lst\n",
      "  477167 total\n"
     ]
    }
   ],
   "source": [
    "%%bash\n",
    "\n",
    "wc -l GTEx_Analysis_v8_eQTL_egene_list/*lst"
   ]
  },
  {
   "cell_type": "markdown",
   "metadata": {},
   "source": [
    "for current analyses, priors are estimated using enloc. p1, p2 and p12 priors are in the file `coloc_prior_est_by_enloc.txt` generated and distributed by William."
   ]
  },
  {
   "cell_type": "code",
   "execution_count": 2,
   "metadata": {},
   "outputs": [
    {
     "data": {
      "text/html": [
       "<div>\n",
       "<style scoped>\n",
       "    .dataframe tbody tr th:only-of-type {\n",
       "        vertical-align: middle;\n",
       "    }\n",
       "\n",
       "    .dataframe tbody tr th {\n",
       "        vertical-align: top;\n",
       "    }\n",
       "\n",
       "    .dataframe thead th {\n",
       "        text-align: right;\n",
       "    }\n",
       "</style>\n",
       "<table border=\"1\" class=\"dataframe\">\n",
       "  <thead>\n",
       "    <tr style=\"text-align: right;\">\n",
       "      <th></th>\n",
       "      <th>trait</th>\n",
       "      <th>tissue</th>\n",
       "      <th>p1</th>\n",
       "      <th>p2</th>\n",
       "      <th>p12</th>\n",
       "    </tr>\n",
       "  </thead>\n",
       "  <tbody>\n",
       "    <tr>\n",
       "      <th>0</th>\n",
       "      <td>CAD</td>\n",
       "      <td>Adipose_Subcutaneous</td>\n",
       "      <td>0.000021</td>\n",
       "      <td>0.002597</td>\n",
       "      <td>0.000009</td>\n",
       "    </tr>\n",
       "    <tr>\n",
       "      <th>1</th>\n",
       "      <td>CAD</td>\n",
       "      <td>Adipose_Visceral_Omentum</td>\n",
       "      <td>0.000023</td>\n",
       "      <td>0.002071</td>\n",
       "      <td>0.000007</td>\n",
       "    </tr>\n",
       "    <tr>\n",
       "      <th>2</th>\n",
       "      <td>CAD</td>\n",
       "      <td>Adrenal_Gland</td>\n",
       "      <td>0.000025</td>\n",
       "      <td>0.001276</td>\n",
       "      <td>0.000004</td>\n",
       "    </tr>\n",
       "    <tr>\n",
       "      <th>3</th>\n",
       "      <td>CAD</td>\n",
       "      <td>Artery_Aorta</td>\n",
       "      <td>0.000018</td>\n",
       "      <td>0.001988</td>\n",
       "      <td>0.000012</td>\n",
       "    </tr>\n",
       "    <tr>\n",
       "      <th>4</th>\n",
       "      <td>CAD</td>\n",
       "      <td>Artery_Coronary</td>\n",
       "      <td>0.000024</td>\n",
       "      <td>0.001085</td>\n",
       "      <td>0.000005</td>\n",
       "    </tr>\n",
       "  </tbody>\n",
       "</table>\n",
       "</div>"
      ],
      "text/plain": [
       "  trait                    tissue        p1        p2       p12\n",
       "0   CAD      Adipose_Subcutaneous  0.000021  0.002597  0.000009\n",
       "1   CAD  Adipose_Visceral_Omentum  0.000023  0.002071  0.000007\n",
       "2   CAD             Adrenal_Gland  0.000025  0.001276  0.000004\n",
       "3   CAD              Artery_Aorta  0.000018  0.001988  0.000012\n",
       "4   CAD           Artery_Coronary  0.000024  0.001085  0.000005"
      ]
     },
     "execution_count": 2,
     "metadata": {},
     "output_type": "execute_result"
    }
   ],
   "source": [
    "priors = pandas.read_csv('coloc_prior_est_by_enloc.txt', sep='\\t', header=0)\n",
    "priors.head()"
   ]
  },
  {
   "cell_type": "code",
   "execution_count": 3,
   "metadata": {},
   "outputs": [
    {
     "data": {
      "text/plain": [
       "array(['CAD', 'Height', 'Hypertension', 'IBD', 'TAG', 'UKB_asthma',\n",
       "       'UKB_BMI', 'UKB_DVT', 'UKB_IBS', 'UKB_migraine',\n",
       "       'UKB_osteoporosis'], dtype=object)"
      ]
     },
     "execution_count": 3,
     "metadata": {},
     "output_type": "execute_result"
    }
   ],
   "source": [
    "priors.trait.unique()"
   ]
  },
  {
   "cell_type": "markdown",
   "metadata": {},
   "source": [
    "for consistence, adding file-name-based trait values"
   ]
  },
  {
   "cell_type": "code",
   "execution_count": 4,
   "metadata": {},
   "outputs": [
    {
     "data": {
      "text/plain": [
       "array(['CARDIoGRAM_C4D_CAD_ADDITIVE', 'GIANT_HEIGHT', 'Hypertension',\n",
       "       'IBD.EUR.Inflammatory_Bowel_Disease', 'tag.evrsmk.tbl',\n",
       "       'UKB_20002_1111_self_reported_asthma',\n",
       "       'UKB_21001_Body_mass_index_BMI',\n",
       "       'UKB_20002_1094_self_reported_deep_venous_thrombosis_dvt',\n",
       "       'UKB_20002_1154_self_reported_irritable_bowel_syndrome',\n",
       "       'UKB_20002_1265_self_reported_migraine',\n",
       "       'UKB_20002_1309_self_reported_osteoporosis'], dtype=object)"
      ]
     },
     "execution_count": 4,
     "metadata": {},
     "output_type": "execute_result"
    }
   ],
   "source": [
    "# making priors file 'trait' as 'trait0'\n",
    "priors['trait0'] = priors['trait']\n",
    "# changing 'trait' to refer to file names\n",
    "# not sure which dataset Hypertension refers to. leaving it for now.\n",
    "priors.replace({'trait' : { 'CAD' : 'CARDIoGRAM_C4D_CAD_ADDITIVE', \n",
    "                           'Height' : 'GIANT_HEIGHT', \n",
    "                           'IBD' : 'IBD.EUR.Inflammatory_Bowel_Disease', \n",
    "                           'TAG' : 'tag.evrsmk.tbl', \n",
    "                           'UKB_BMI' : 'UKB_21001_Body_mass_index_BMI', \n",
    "                           'UKB_DVT' : 'UKB_20002_1094_self_reported_deep_venous_thrombosis_dvt', \n",
    "                           'UKB_IBS' : 'UKB_20002_1154_self_reported_irritable_bowel_syndrome', \n",
    "                           'UKB_asthma' : 'UKB_20002_1111_self_reported_asthma',\n",
    "                           'UKB_migraine' : 'UKB_20002_1265_self_reported_migraine',\n",
    "                           'UKB_osteoporosis' : 'UKB_20002_1309_self_reported_osteoporosis'\n",
    "                          }}, inplace=True)\n",
    "priors.trait.unique()"
   ]
  },
  {
   "cell_type": "markdown",
   "metadata": {},
   "source": [
    "drop hypertension from current analysis due to ambiguity"
   ]
  },
  {
   "cell_type": "code",
   "execution_count": 5,
   "metadata": {},
   "outputs": [],
   "source": [
    "priors = priors.loc[priors['trait'] != 'Hypertension']"
   ]
  },
  {
   "cell_type": "markdown",
   "metadata": {},
   "source": [
    "saving temp priors file for coloc analyses with new trait names"
   ]
  },
  {
   "cell_type": "code",
   "execution_count": 8,
   "metadata": {},
   "outputs": [],
   "source": [
    "priors.to_csv('coloc_prior_est_by_enloc_with_traitfile.txt', sep='\\t', header=True, index=False)"
   ]
  },
  {
   "cell_type": "markdown",
   "metadata": {},
   "source": [
    "gtex v8 sample sizes are assessed from count of samples included in the covariates file"
   ]
  },
  {
   "cell_type": "code",
   "execution_count": null,
   "metadata": {},
   "outputs": [],
   "source": [
    "%%bash\n",
    "for f in GTEx_Analysis_v8_eQTL_covariates/*.v8.covariates.txt; do \n",
    "  tissue=$(echo ${f} | sed 's:GTEx_Analysis_v8_eQTL_covariates/::g; s:.v8.covariates.txt::g')\n",
    "  count=$(head -1 ${f} | awk '{print NF}')\n",
    "  echo $tissue `expr $count - 1`\n",
    "done >> gtex_v8_sample_count.txt"
   ]
  },
  {
   "cell_type": "code",
   "execution_count": 4,
   "metadata": {},
   "outputs": [
    {
     "name": "stdout",
     "output_type": "stream",
     "text": [
      "Adipose_Subcutaneous 581\n",
      "Adipose_Visceral_Omentum 469\n",
      "Adrenal_Gland 233\n",
      "Artery_Aorta 387\n",
      "Artery_Coronary 213\n",
      "Artery_Tibial 584\n",
      "Brain_Amygdala 129\n",
      "Brain_Anterior_cingulate_cortex_BA24 147\n",
      "Brain_Caudate_basal_ganglia 194\n",
      "Brain_Cerebellar_Hemisphere 175\n"
     ]
    }
   ],
   "source": [
    "!head gtex_v8_sample_count.txt"
   ]
  },
  {
   "cell_type": "markdown",
   "metadata": {},
   "source": [
    "example coloc files are made from allpairs eqtl results files and imputed gwas summary statistics"
   ]
  },
  {
   "cell_type": "code",
   "execution_count": null,
   "metadata": {},
   "outputs": [],
   "source": [
    "#!/usr/bin/env python3\n",
    "\n",
    "# making merged input per gene for colocalization analyses using gtex eqtl and imputed gwas results summary statistics \n",
    "# YoSon Park\n",
    "\n",
    "# example arguements\n",
    "# gwasfile = 'imputed_CARDIoGRAM_C4D_CAD_ADDITIVE.txt.gz'\n",
    "# tissue = 'Whole_Blood'\n",
    "# example run\n",
    "# > python3 gtex_gwas_crossinput.py imputed_CARDIoGRAM_C4D_CAD_ADDITIVE.txt.gz Whole_Blood\n",
    "\n",
    "import os, sys\n",
    "import pandas\n",
    "\n",
    "rootdir = '/work/gtex/'\n",
    "eqtldir = rootdir + 'results/GTEx_Analysis_v8_eQTL/'\n",
    "outdir = rootdir + 'coloc_v8/input_per_gene/'\n",
    "\n",
    "samplesfile = rootdir + 'coloc_v8/gtex_v8_sample_count.txt'\n",
    "samples = pandas.read_csv(samplesfile, sep='\\t', header=None, names=['tissue', 'eqtl_n'])\n",
    "\n",
    "gwasfile = sys.argv[1]\n",
    "tissue = sys.argv[2]\n",
    "\n",
    "\n",
    "# gwas file head -2 imputed_CARDIoGRAM_C4D_CAD_ADDITIVE.txt.gz\n",
    "# variant_id\tgtex_variant_id\tchromosome\tposition\teffect_allele\tnon_effect_allele\tcurrent_build\tfrequency\tsample_size\tzscore\tpvalue\teffect_size\tstandard_error\timputation_status\tn_cases\n",
    "# rs372260684\tchr10_18924_A_C_b38\tchr10\t18924\tC\tA\thg38\t0.08008658008658008\t184305\t1.2056708779464282\t0.22794441814657265\tNA\tNA\timputed\t60801\n",
    "\n",
    "gwasdir = rootdir + 'coloc_v8/gwas/'\n",
    "gwasheader = ['gwas_variant_id', 'eqtl_variant_id', 'chromosome', 'position', 'effect_allele', 'non_effect_allele', 'current_build', 'frequency', 'gwas_sample_size', 'gwas_zscore', 'gwas_pvalue', 'gwas_effect_size', 'gwas_standard_error', 'gwas_imputation_status', 'gwas_n_cases']\n",
    "gwas = pandas.read_csv(gwasdir + gwasfile, sep='\\t', header=0, names=gwasheader)\n",
    "# for a lack of better convention, keeping file names as 'trait' names\n",
    "trait = gwasfile.replace('imputed_', '')\n",
    "trait = trait.replace('.txt.gz', '')\n",
    "gwas['trait'] = trait\n",
    "\n",
    "# example egene file \n",
    "egenesfile = eqtldir + 'GTEx_Analysis_v8_eQTL_egene_list/' + tissue + '.egenes.lst'\n",
    "egenes = pandas.read_csv(egenesfile, sep='\\t', header=None, names=['gene_id'])\n",
    "\n",
    "# head -2 of eqtldir + 'GTEx_Analysis_v8_eQTL_all_associations_per_gene/'+ tissue + '/' tissue + '_ENSG00000110002.15.allpairs.txt'\n",
    "# gene_id\tvariant_id\ttss_distance\tma_samples\tma_count\tmaf\tpval_nominal\tslope\tslope_se\n",
    "# ENSG00000110002.15\tchr11_123115454_T_C_b38\t-999908\t75\t79\t0.0589552\t0.102627\t0.080717\t0.0493759\n",
    "\n",
    "# samples are counted from the header of per-tissue eqtl covariate files\n",
    "sample = samples.loc[samples['tissue']==tissue]['eqtl_n'].values[0]\n",
    "\n",
    "# adding prefix 'eqtl' to distinguish from 'gwas' columns in the final merged input file\n",
    "eqtlheader = ['gene_id', 'eqtl_variant_id', 'tss_distance', 'eqtl_ma_samples', 'eqtl_ma_count', 'eqtl_maf', 'eqtl_pval_nominal', 'eqtl_slope', 'eqtl_slope_se']\n",
    "\n",
    "# iterate through egenes list\n",
    "for gene in egenes.gene_id:\n",
    "  allpairsfile = eqtldir + 'GTEx_Analysis_v8_eQTL_all_associations_per_gene/'+ tissue + '/' + tissue + '_' + gene + '.allpairs.txt'\n",
    "  if os.path.isfile(allpairsfile):\n",
    "    # reformatting file names for consistency\n",
    "    outfile = outdir + tissue + '_w_' + trait + '_for_' + gene + '_coloc_input_file.txt'\n",
    "    if not os.path.isfile(outfile):\n",
    "      allpairs = pandas.read_csv(allpairsfile, sep='\\t', header=0, names=eqtlheader)\n",
    "      allpairs['tissue'] = tissue\n",
    "      allpairs['eqtl_sample_size'] = sample\n",
    "      merged = allpairs.merge(gwas, on='eqtl_variant_id', left_index=False, right_index=False, how='inner')\n",
    "      if not merged.empty:\n",
    "        merged.to_csv(outfile, sep='\\t', header=True, index=False, na_rep='NA')\n",
    "      else:\n",
    "        print(gene, ' is not available for colocalization analysis')\n",
    "\n"
   ]
  },
  {
   "cell_type": "markdown",
   "metadata": {},
   "source": [
    "resulting example coloc input file"
   ]
  },
  {
   "cell_type": "code",
   "execution_count": 6,
   "metadata": {},
   "outputs": [
    {
     "name": "stdout",
     "output_type": "stream",
     "text": [
      "gene_id\teqtl_variant_id\ttss_distance\teqtl_ma_samples\teqtl_ma_count\teqtl_maf\teqtl_pval_nominal\teqtl_slope\teqtl_slope_se\ttissue\teqtl_sample_size\tgwas_variant_id\tchromosome\tposition\teqtl_effect_allele\teqtl_non_effect_allele\tcurrent_build\tfrequency\tgwas_sample_size\tgwas_zscore\tgwas_pvalue\tgwas_effect_size\tgwas_standard_error\tgwas_imputation_status\tgwas_n_cases\ttrait\n",
      "ENSG00000000457.13\tchr1_168894411_A_T_b38\t-999856\t30\t30\t0.0223881\t0.4447680000000001\t0.0509097\t0.0665773\tWhole_Blood\t670\trs114383479\tchr1\t168894411\tT\tA\thg38\t0.023088023088023088\t184305\t1.3586797714233398\t0.17424808484624\tNA\tNA\timputed\t60801\tCARDIoGRAM_C4D_CAD_ADDITIVE\n"
     ]
    }
   ],
   "source": [
    "!head -2 input_per_gene/Whole_Blood_w_CARDIoGRAM_C4D_CAD_ADDITIVE_for_ENSG00000000457.13_coloc_input_file.txt"
   ]
  },
  {
   "cell_type": "markdown",
   "metadata": {},
   "source": [
    "coloc r package was used for preliminary testing. william's abf implementation will follow. example r script to run coloc abf is:"
   ]
  },
  {
   "cell_type": "code",
   "execution_count": null,
   "metadata": {},
   "outputs": [],
   "source": [
    "%%R\n",
    "#!/usr/bin/env Rscript\n",
    "\n",
    "args = commandArgs(trailingOnly=TRUE)\n",
    "print(args)\n",
    "\n",
    "library(dplyr)\n",
    "library(data.table)\n",
    "library(coloc)\n",
    "\n",
    "# example file input_per_gene/Whole_Blood_w_CARDIoGRAM_C4D_CAD_ADDITIVE_for_ENSG00000000457.13_coloc_input_file.txt\n",
    "# head -2 input_per_gene/Whole_Blood_w_CARDIoGRAM_C4D_CAD_ADDITIVE_for_ENSG00000000457.13_coloc_input_file.txt\n",
    "# gene_id\teqtl_variant_id\ttss_distance\teqtl_ma_samples\teqtl_ma_count\teqtl_maf\teqtl_pval_nominal\teqtl_slope\teqtl_slope_se\ttissue\teqtl_sample_size\tgwas_variant_id\tchromosome\tposition\teqtl_effect_allele\teqtl_non_effect_allele\tcurrent_build\tfrequency\tgwas_sample_size\tgwas_zscore\tgwas_pvalue\tgwas_effect_size\tgwas_standard_error\tgwas_imputation_status\tgwas_n_cases\ttrait\n",
    "# ENSG00000000457.13\tchr1_168894411_A_T_b38\t-999856\t30\t30\t0.0223881\t0.4447680000000001\t0.0509097\t0.0665773\tWhole_Blood\t670\trs114383479\tchr1\t168894411\tT\tA\thg38\t0.023088023088023088\t184305\t1.3586797714233398\t0.17424808484624\tNA\tNA\timputed\t60801\tCARDIoGRAM_C4D_CAD_ADDITIVE\n",
    "\n",
    "# assumes input files contains per-gene or per-ldblock variants only\n",
    "\n",
    "# inputfile = 'Whole_Blood_w_CARDIoGRAM_C4D_CAD_ADDITIVE_for_ENSG00000000457.13_coloc_input_file.txt'\n",
    "inputfile = args[1]\n",
    "workdir = '/work/gtex/coloc/'\n",
    "inputdir = paste(workdir, 'input_per_gene/', sep='')\n",
    "outputdir = paste(workdir, 'output_per_gene/', sep='')\n",
    "priorsfile = 'coloc_prior_est_by_enloc_with_traitfile.txt'\n",
    "\n",
    "tissueid = unlist(strsplit(inputfile, '_w_'))[1]\n",
    "traitid = unlist(strsplit(inputfile, '_w_'))[2]\n",
    "geneid = unlist(strsplit(traitid, '_for_'))[2]\n",
    "geneid = unlist(strsplit(geneid, '_coloc_'))[1]\n",
    "traitid = unlist(strsplit(traitid, '_for_'))[1]\n",
    "\n",
    "print(c(tissueid, traitid, geneid))\n",
    "\n",
    "outfile = paste(outputdir, tissueid, '_w_', traitid, '_for_', geneid, '_coloc_output_file.txt', sep='')\n",
    "output = c()\n",
    "\n",
    "inputdata = tbl_df(fread(paste(inputdir, inputfile, sep='')))\n",
    "inputdata$gwas_varbeta = 1\n",
    "\n",
    "inputdata = inputdata %>% filter(complete.cases(gwas_zscore)) %>% mutate(max_gwas_zscore = max(abs(gwas_zscore))) \n",
    "inputdata = inputdata %>% arrange(desc(abs(gwas_zscore)))\n",
    "\n",
    "priors = tbl_df(fread(paste(workdir, priorsfile, sep='')))\n",
    "priorsused = priors %>% filter(trait == traitid & tissue == tissueid)\n",
    "p1used = priorsused$p1\n",
    "p2used = priorsused$p2\n",
    "p12used = priorsused$p12\n",
    "\n",
    "eqtlinput = list(beta = inputdata$eqtl_slope, varbeta = (inputdata$eqtl_slope_se)**2, N = inputdata$eqtl_sample_size, type = 'quant', snp = inputdata$eqtl_variant_id, MAF = inputdata$eqtl_maf)\n",
    "gwasinput = list(beta = inputdata$gwas_zscore, varbeta = inputdata$gwas_varbeta, N = inputdata$gwas_sample_size, type = 'quant', snp = inputdata$eqtl_variant_id, MAF = inputdata$frequency)\n",
    "\n",
    "runcoloc = coloc.abf(eqtlinput, gwasinput, p1=p1used, p2=p2used, p12=p12used)\n",
    "output = rbind(output, c(unlist(inputdata[1,]), runcoloc$summary))\n",
    "output = as.data.table(output)\n",
    "output = mutate(output, PP.H1.abf = ifelse(PP.H0.abf == 1, 0, 'NA'))\n",
    "output = mutate(output, PP.H2.abf = ifelse(PP.H0.abf == 1, 0, 'NA'))\n",
    "output = mutate(output, PP.H3.abf = ifelse(PP.H0.abf == 1, 0, 'NA'))\n",
    "output = mutate(output, PP.H4.abf = ifelse(PP.H0.abf == 1, 0, 'NA'))\n",
    "\n",
    "# mutate(df, x=ifelse(a==2,x+1,x))\n",
    "\n",
    "outputdata = tbl_df(as.data.frame(output)) %>% mutate(PP.H4.abf = as.numeric(as.character(PP.H4.abf))) %>% arrange(desc(PP.H4.abf))\n",
    "write.table(outputdata, file=outfile, quote=F, col.names=T, row.names=F, sep='\\t')  \t\t\n",
    "\n",
    "\n"
   ]
  },
  {
   "cell_type": "markdown",
   "metadata": {},
   "source": [
    "example output also contains the input file, and resulting abf posterior probabilities PP1, PP2, PP3 and PP4"
   ]
  },
  {
   "cell_type": "code",
   "execution_count": 9,
   "metadata": {},
   "outputs": [
    {
     "name": "stdout",
     "output_type": "stream",
     "text": [
      "gene_id\teqtl_variant_id\ttss_distance\teqtl_ma_samples\teqtl_ma_count\teqtl_maf\teqtl_pval_nominal\teqtl_slope\teqtl_slope_se\ttissue\teqtl_sample_size\tgwas_variant_id\tchromosome\tposition\teqtl_effect_allele\teqtl_non_effect_allele\tcurrent_build\tfrequency\tgwas_sample_size\tgwas_zscore\tgwas_pvalue\tgwas_effect_size\tgwas_standard_error\tgwas_imputation_status\tgwas_n_cases\ttrait\tgwas_varbeta\tnsnps\tPP.H0.abf\tPP.H1.abf\tPP.H2.abf\tPP.H3.abf\tPP.H4.abf\n",
      "ENSG00000000457.13\tchr1_168894411_A_T_b38\t-999856\t30\t30\t0.0223881\t0.444768\t0.0509097\t0.0665773\tWhole_Blood\t670\trs114383479\tchr1\t168894411\tT\tA\thg38\t0.0230880230880231\t184305\t1.35867977142334\t0.17424808484624\tNA\tNA\timputed\t60801\tCARDIoGRAM_C4D_CAD_ADDITIVE\t1\t7210\t8.25588247271532e-22\t0.245066847408069\t2.50289758883083e-21\t0.742873226058844\t0.0120599265330898\n"
     ]
    }
   ],
   "source": [
    "!cat output_per_gene/Whole_Blood_w_CARDIoGRAM_C4D_CAD_ADDITIVE_for_ENSG00000000457.13_coloc_output_file.txt"
   ]
  }
 ],
 "metadata": {
  "kernelspec": {
   "display_name": "Python 3",
   "language": "python",
   "name": "python3"
  },
  "language_info": {
   "codemirror_mode": {
    "name": "ipython",
    "version": 3
   },
   "file_extension": ".py",
   "mimetype": "text/x-python",
   "name": "python",
   "nbconvert_exporter": "python",
   "pygments_lexer": "ipython3",
   "version": "3.6.4"
  }
 },
 "nbformat": 4,
 "nbformat_minor": 2
}
